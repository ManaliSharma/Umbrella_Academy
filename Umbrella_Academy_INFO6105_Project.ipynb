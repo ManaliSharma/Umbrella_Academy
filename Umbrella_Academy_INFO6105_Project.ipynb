{
 "cells": [
  {
   "cell_type": "markdown",
   "metadata": {},
   "source": [
    "# <p style=\"text-align: center;\"> Social Butterfly - Umbrella Academy</p>"
   ]
  },
  {
   "cell_type": "markdown",
   "metadata": {},
   "source": [
    "# <p style=\"text-align: center;\"> Index </p>\n",
    "- # 1 [Collecting Metadata](Umbrella_Academy_INFO6105_Project\\Umbrella_Academy_INFO6105_Collecting_Metadata.ipynb)\n",
    "- # 2 [LSTM Modeling](Umbrella_Academy_INFO6105_Project\\Umbrella_Academy_INFO6105_LSTM_Model.ipynb)\n",
    "- # 3 [Sentiment Analysis](Umbrella_Academy_INFO6105_Project\\Umbrella_Academy_INFO6105_Sentiment_Analysis.ipynb)"
   ]
  },
  {
   "cell_type": "markdown",
   "metadata": {},
   "source": [
    "**PS-** We have done this project in 3 parts, and all 3 parts are divided into seperate notebooks. And these individual notebooks contain the whole code and documentation of the entire part."
   ]
  }
 ],
 "metadata": {
  "kernelspec": {
   "display_name": "Python 3",
   "language": "python",
   "name": "python3"
  },
  "language_info": {
   "codemirror_mode": {
    "name": "ipython",
    "version": 3
   },
   "file_extension": ".py",
   "mimetype": "text/x-python",
   "name": "python",
   "nbconvert_exporter": "python",
   "pygments_lexer": "ipython3",
   "version": "3.6.8"
  }
 },
 "nbformat": 4,
 "nbformat_minor": 2
}
