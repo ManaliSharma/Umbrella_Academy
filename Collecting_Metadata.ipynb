{
 "cells": [
  {
   "cell_type": "markdown",
   "metadata": {},
   "source": [
    "# <p style=\"text-align: center;\"> Social Butterfly - Umbrella Academy - Collecting Metadata</p>"
   ]
  },
  {
   "cell_type": "markdown",
   "metadata": {},
   "source": [
    "![title](Skunkworks.png)"
   ]
  },
  {
   "cell_type": "code",
   "execution_count": 2,
   "metadata": {},
   "outputs": [
    {
     "data": {
      "text/html": [
       "<script>\n",
       "code_show=true; \n",
       "function code_toggle() {\n",
       " if (code_show){\n",
       " $('div.input').hide();\n",
       " } else {\n",
       " $('div.input').show();\n",
       " }\n",
       " code_show = !code_show\n",
       "} \n",
       "$( document ).ready(code_toggle);\n",
       "</script>\n",
       "The raw code for this IPython notebook is by default hidden for easier reading.\n",
       "To toggle on/off the raw code, click <a href=\"javascript:code_toggle()\">here</a>."
      ],
      "text/plain": [
       "<IPython.core.display.HTML object>"
      ]
     },
     "execution_count": 2,
     "metadata": {},
     "output_type": "execute_result"
    }
   ],
   "source": [
    "from IPython.display import HTML\n",
    "HTML('''<script>\n",
    "code_show=true; \n",
    "function code_toggle() {\n",
    " if (code_show){\n",
    " $('div.input').hide();\n",
    " } else {\n",
    " $('div.input').show();\n",
    " }\n",
    " code_show = !code_show\n",
    "} \n",
    "$( document ).ready(code_toggle);\n",
    "</script>\n",
    "The raw code for this IPython notebook is by default hidden for easier reading.\n",
    "To toggle on/off the raw code, click <a href=\"javascript:code_toggle()\">here</a>.''')"
   ]
  },
  {
   "cell_type": "markdown",
   "metadata": {},
   "source": [
    "# <p style=\"text-align: center;\"> Table of Contents </p>\n",
    "- ## 1. [Introduction](#Introduction)\n",
    "   - ### 1.1 [Abstract](#abstract)\n",
    "   - ### 1.2 [Importing Libraries](#importing_libraries)\n",
    "   - ### 1.3 [Data Collection Functions](#functions)\n",
    "       - ### 1.3.1 [Function for taking the user input](#user_input)\n",
    "       - ### 1.3.2 [Function for saving the scraped tweets](#saving_scraped_tweets)\n",
    "       - ### 1.3.3 [Function for extracting entities](#extracting_entities)\n",
    "       - ### 1.3.4 [Generating a CSV for tweets](#generating_csv)\n",
    "   - ### 1.4 [Dataset Summary](#dataset_summary)\n",
    "   - ### 1.5 [Dataset Cleaning](#dataset_cleaning)\n",
    "       - ### 1.5.1 [Functions to clean data](#functions_for_cleaning)\n",
    "- ## 2. [Collecting Hashtags](#collecting_hashtags)\n",
    "   - ### 2.1 [Most occuring Hashtags](#most_occuring_hashtag)\n",
    "   - ### 2.2 [Advertools](#advertools)\n",
    "- ## 3. [Conclusion](#Conclusion)\n",
    "- ## 4. [Contribution](#Contribution)\n",
    "- ## 5. [Citation](#Citation)\n",
    "- ## 6. [License](#License)"
   ]
  },
  {
   "cell_type": "markdown",
   "metadata": {},
   "source": [
    "# <p style=\"text-align: center;\"> 1.0 Introduction </p> <a id='Introduction'></a>\n",
    "\n",
    "Social Butterfly is a social media engagement software project which is a part of the NEU AI Skunkworks Project team. We propose to create a software that performs the task of content optimization and then publishes the same optimized content on one or more social media platform (viz. Twitter, Skunkworks, Instagram etc.). Publishing content on social media is the fastest way to reach audience so the content that should be posted and the timing at which it should be posted is of prime importance. Finding new content is incredibly hard, we are also proposing to employ machine learning methods to create new content after training the models on the given data. These are the two major tasks that we propose to tackle in our Project. "
   ]
  },
  {
   "cell_type": "markdown",
   "metadata": {},
   "source": [
    "# 1.1 Abstract <a id='abstract'></a>\n",
    "\n",
    "In this notebook we tackle with the task of Metadata collection. We chose to collect data from twitter as it is easy to scrape data from twitter with the help of Python library like Tweepy. We save the scraped tweets in json file and then convert it to a csv file. This csv file is then loaded as a pandas dataframe, and we extract hashtags from the tweets. Then we plot these hashtags with their count to see their frequency of occurence. This gives us some good idea as to which hashtags should we use while scraping data from twitter.\n",
    "\n",
    "[Back to top](#Introduction)"
   ]
  },
  {
   "cell_type": "markdown",
   "metadata": {},
   "source": [
    "# 1.2 Importing Libraries <a id='importing_libraries'></a>\n",
    "\n",
    "In this step, we import libraries that we need for this notebook. A few basic libraries like numpy, pandas, matplotlib etc are used. Other libraries like tweepy, json, csv are used to collect data from twitter and save them as a json and csv file. Advertool helps us analyze our metadata and nltk helps us with the natural language processing.\n",
    "\n",
    "[Back to top](#Introduction)"
   ]
  },
  {
   "cell_type": "code",
   "execution_count": 5,
   "metadata": {},
   "outputs": [],
   "source": [
    "import json\n",
    "import tweepy\n",
    "import csv\n",
    "\n",
    "import numpy as np\n",
    "import pandas as pd\n",
    "from pandas.io.json import json_normalize \n",
    "\n",
    "%config InlineBackend.figure_format = 'retina' # high resolution plotting\n",
    "import matplotlib.pyplot as plt\n",
    "\n",
    "import re\n",
    "\n",
    "import nltk\n",
    "from nltk.corpus import stopwords\n",
    "\n",
    "import string\n",
    "import advertools as adv\n",
    "\n",
    "import warnings; warnings.simplefilter('ignore')\n",
    "\n",
    "twitter_cred = dict()\n",
    "\n",
    "twitter_cred['CONSUMER_KEY'] = '17XHiftb4Iu5hVAIh4NacWj9S'\n",
    "twitter_cred['CONSUMER_SECRET'] = '8xAXhFsfnkiFjSFO5THqRO5J8x8lKSzC9J2GNPUSY7ZPb5z6Qv'\n",
    "twitter_cred['ACCESS_KEY'] = '1392379572-FInzXaziEqyNCGc8jqtU9LwnFFlHYRpjoihZpiX'\n",
    "twitter_cred['ACCESS_SECRET'] = 'JBDveSiUU6aXpwx8QkxYhXloDr9DyHn7ocqrqgWqwqctw'"
   ]
  },
  {
   "cell_type": "code",
   "execution_count": 6,
   "metadata": {},
   "outputs": [],
   "source": [
    "# Saving the Twitter Credentials to a json file\n",
    "with open('twitter_credentials.json', 'w') as secret_info:\n",
    "    json.dump(twitter_cred, secret_info, indent=4, sort_keys=True)"
   ]
  },
  {
   "cell_type": "code",
   "execution_count": 7,
   "metadata": {},
   "outputs": [],
   "source": [
    "# Opening the Twitter Credentials saved in a json file\n",
    "with open('twitter_credentials.json') as cred_data:\n",
    "    info = json.load(cred_data)\n",
    "    consumer_key = info['CONSUMER_KEY']\n",
    "    consumer_secret = info['CONSUMER_SECRET']\n",
    "    access_key = info['ACCESS_KEY']\n",
    "    access_secret = info['ACCESS_SECRET']\n",
    "\n",
    "    \n",
    "# Create the api endpoint\n",
    "auth = tweepy.OAuthHandler(consumer_key, consumer_secret)\n",
    "api = tweepy.API(auth)\n",
    "api = tweepy.API(auth, wait_on_rate_limit=True)"
   ]
  },
  {
   "cell_type": "markdown",
   "metadata": {},
   "source": [
    "# 1.3 Data Collection Functions <a id='functions'></a>\n",
    "We need to collect metadata, so we need to define a few things at first. We will ask user for number of tweets and the hastags that they want to extract data on. This will give us some basic idea as to what are the hashtags that are relevant alongside the hashtags that we feed it. \n",
    "\n",
    "[Back to top](#Introduction)"
   ]
  },
  {
   "cell_type": "markdown",
   "metadata": {},
   "source": [
    "### 1.3.1 Function for taking the user input <a id='user_input'></a>\n",
    "\n",
    "The hashtags that we give as input here are of prime importance as our whole project's domain is going to based on these hashtags. Ideally it is recommended to scrape as many tweets as possible as that'll give us a more comprehensive understanding about the data.\n",
    "\n",
    "Here we are scraping for 3 Hashtags(AI, ML and DataScience) for 2500 tweets each.\n",
    "\n",
    "[Back to top](#functions)"
   ]
  },
  {
   "cell_type": "code",
   "execution_count": 3,
   "metadata": {
    "scrolled": true
   },
   "outputs": [],
   "source": [
    "def tweet_scrapped():\n",
    "    maximum_number_of_tweets_to_be_extracted = \\\n",
    "    tweet_number=int(input('Enter the number of tweets that you want to extract- '))\n",
    "    return tweet_number\n",
    "def Hashtag_used():\n",
    "    hashtag=str(input('Enter the hashtag you want to scrape- '))\n",
    "    return hashtag"
   ]
  },
  {
   "cell_type": "markdown",
   "metadata": {},
   "source": [
    "### 1.3.2 Function for saving the scraped tweets <a id='saving_scraped_tweets'></a>\n",
    "After scraping the tweets, we would be saving them in a json file as it is the most compatible to extract information from and to save information to for tweets. \n",
    "in a json file\n",
    "\n",
    "[Back to top](#functions)"
   ]
  },
  {
   "cell_type": "code",
   "execution_count": 9,
   "metadata": {},
   "outputs": [],
   "source": [
    "def scrap_tweets(hashtag,tweet_number):\n",
    "    all_the_tweets = [] \n",
    "    with open('output_json.json', 'w') as outfile:\n",
    "        \n",
    "        for tweet in tweepy.Cursor(api.search, q='#' + hashtag,rpp=400, tweet_mode='extended').items(tweet_number):\n",
    "             if (not tweet.retweeted) and ('RT @' not in tweet.full_text):\n",
    "                json.dump(tweet._json, outfile, indent=2) \n",
    "                outfile.write('\\n')\n",
    "                all_the_tweets.append(tweet)\n",
    "               \n",
    "    print ('Extracted ' + str(tweet_number) + ' tweets with hashtag #' + hashtag)\n",
    "    \n",
    "    return all_the_tweets"
   ]
  },
  {
   "cell_type": "markdown",
   "metadata": {},
   "source": [
    "### 1.3.3 Function for extracting entities <a id='extracting_entities'></a>\n",
    "\n",
    "After scraping the tweets, we will select only the entities that we need for metadata collection. We will not be using the remaining entities in this section.\n",
    "\n",
    "[Back to top](#functions)"
   ]
  },
  {
   "cell_type": "code",
   "execution_count": 4,
   "metadata": {},
   "outputs": [],
   "source": [
    "def out_tweets(tweets_scrapped):\n",
    "    \n",
    "    outtweets = [[tweet.id_str, tweet.full_text.encode('utf-8').decode(\"utf-8\"),tweet.user.screen_name, tweet.entities.get('hashtags')] for tweet in tweets_scrapped]\n",
    "    return outtweets      "
   ]
  },
  {
   "cell_type": "markdown",
   "metadata": {},
   "source": [
    "### 1.3.4 Generating a CSV for tweets <a id='generating_csv'></a>\n",
    "Now that we have a json file of our tweets with all the entities, we will create a few csv files, so that it can be easily loaded as a Pandas Dataframe.\n",
    "\n",
    "[Back to top](#functions)"
   ]
  },
  {
   "cell_type": "code",
   "execution_count": 8,
   "metadata": {},
   "outputs": [],
   "source": [
    "def csv_tweets(outtweets,hashtag):\n",
    "    tweet_csv_name=' tweets with hashtag #' + hashtag+'.csv'\n",
    "    with open(tweet_csv_name, 'w', encoding='utf8') as f:\n",
    "        writer = csv.writer(f)\n",
    "        writer.writerow(['id', 'text', 'screen_name', 'Hashtags'])\n",
    "        writer.writerows(outtweets)"
   ]
  },
  {
   "cell_type": "code",
   "execution_count": 9,
   "metadata": {},
   "outputs": [
    {
     "name": "stdout",
     "output_type": "stream",
     "text": [
      "Enter the number of tweets that you want to extract- 2500\n"
     ]
    }
   ],
   "source": [
    "tweet_number=int(tweet_scrapped())"
   ]
  },
  {
   "cell_type": "code",
   "execution_count": 24,
   "metadata": {},
   "outputs": [
    {
     "name": "stdout",
     "output_type": "stream",
     "text": [
      "Enter the hashtag you want to scrape- DataScience\n"
     ]
    }
   ],
   "source": [
    "hashtag=str(Hashtag_used())"
   ]
  },
  {
   "cell_type": "code",
   "execution_count": 25,
   "metadata": {},
   "outputs": [
    {
     "name": "stdout",
     "output_type": "stream",
     "text": [
      "Extracted 2500 tweets with hashtag #DataScience\n"
     ]
    }
   ],
   "source": [
    "tweets_scrapped=scrap_tweets(hashtag,tweet_number)"
   ]
  },
  {
   "cell_type": "code",
   "execution_count": 26,
   "metadata": {},
   "outputs": [],
   "source": [
    "outtweets=out_tweets(tweets_scrapped)"
   ]
  },
  {
   "cell_type": "code",
   "execution_count": 27,
   "metadata": {},
   "outputs": [],
   "source": [
    "csv_tweets(outtweets,hashtag)"
   ]
  },
  {
   "cell_type": "markdown",
   "metadata": {},
   "source": [
    "### Converting the csv files to dataframes "
   ]
  },
  {
   "cell_type": "markdown",
   "metadata": {},
   "source": [
    "We are doing this for three hashtags here:- AI, ML and DataScience"
   ]
  },
  {
   "cell_type": "code",
   "execution_count": 9,
   "metadata": {},
   "outputs": [],
   "source": [
    "def dataframe(hashtag):\n",
    "    tweet_csv_name=' tweets with hashtag #' + hashtag+'.csv'\n",
    "    dataset=pd.read_csv(tweet_csv_name,encoding=\"ISO-8859-1\")\n",
    "    return dataset"
   ]
  },
  {
   "cell_type": "markdown",
   "metadata": {},
   "source": [
    "# 1.4 Dataset Summary <a id='dataset_summary'></a>\n",
    "Since this dataset is scraped from twitter, it is bound to have some irregular values. In this step we check the summary of the dataset by checking the first 5 columns of the scraped data, checking the data types of the columns and checking the mathematical summary of the dataset\n",
    "\n",
    "[Back to top](#Introduction)"
   ]
  },
  {
   "cell_type": "code",
   "execution_count": 10,
   "metadata": {
    "scrolled": false
   },
   "outputs": [
    {
     "data": {
      "text/html": [
       "<div>\n",
       "<style scoped>\n",
       "    .dataframe tbody tr th:only-of-type {\n",
       "        vertical-align: middle;\n",
       "    }\n",
       "\n",
       "    .dataframe tbody tr th {\n",
       "        vertical-align: top;\n",
       "    }\n",
       "\n",
       "    .dataframe thead th {\n",
       "        text-align: right;\n",
       "    }\n",
       "</style>\n",
       "<table border=\"1\" class=\"dataframe\">\n",
       "  <thead>\n",
       "    <tr style=\"text-align: right;\">\n",
       "      <th></th>\n",
       "      <th>id</th>\n",
       "      <th>created_at</th>\n",
       "      <th>text</th>\n",
       "      <th>user</th>\n",
       "      <th>screen_name</th>\n",
       "      <th>friends_count</th>\n",
       "      <th>followers_count</th>\n",
       "      <th>retweet_count</th>\n",
       "      <th>favorite_count</th>\n",
       "      <th>Hashtags</th>\n",
       "    </tr>\n",
       "  </thead>\n",
       "  <tbody>\n",
       "    <tr>\n",
       "      <th>0</th>\n",
       "      <td>1118678264581505024</td>\n",
       "      <td>2019-04-18 00:50:56</td>\n",
       "      <td>#AI #education https://t.co/nvh7t1jMjf</td>\n",
       "      <td>Carol Tonhauser</td>\n",
       "      <td>cmt1</td>\n",
       "      <td>3101</td>\n",
       "      <td>4656</td>\n",
       "      <td>0</td>\n",
       "      <td>0</td>\n",
       "      <td>[{'text': 'AI', 'indices': [0, 3]}, {'text': '...</td>\n",
       "    </tr>\n",
       "    <tr>\n",
       "      <th>1</th>\n",
       "      <td>1118678197829361664</td>\n",
       "      <td>2019-04-18 00:50:41</td>\n",
       "      <td>RT DeepLearn007 \"RT DeepLearn007: An Excellent...</td>\n",
       "      <td>Mahavira Paris</td>\n",
       "      <td>ParisMahavira</td>\n",
       "      <td>132</td>\n",
       "      <td>175</td>\n",
       "      <td>0</td>\n",
       "      <td>0</td>\n",
       "      <td>[{'text': 'DeepLearning', 'indices': [70, 83]}...</td>\n",
       "    </tr>\n",
       "    <tr>\n",
       "      <th>2</th>\n",
       "      <td>1118678194712915969</td>\n",
       "      <td>2019-04-18 00:50:40</td>\n",
       "      <td>RT DeepLearn007 \"RT DeepLearn007: Top #AI Infl...</td>\n",
       "      <td>Mahavira Paris</td>\n",
       "      <td>ParisMahavira</td>\n",
       "      <td>132</td>\n",
       "      <td>175</td>\n",
       "      <td>0</td>\n",
       "      <td>0</td>\n",
       "      <td>[{'text': 'AI', 'indices': [38, 41]}, {'text':...</td>\n",
       "    </tr>\n",
       "    <tr>\n",
       "      <th>3</th>\n",
       "      <td>1118678131743711233</td>\n",
       "      <td>2019-04-18 00:50:25</td>\n",
       "      <td>ðåãæ¹æ¹é©ãæè­ããæ¥ãã¬æ...</td>\n",
       "      <td>Screens</td>\n",
       "      <td>screens_lab</td>\n",
       "      <td>10</td>\n",
       "      <td>230</td>\n",
       "      <td>0</td>\n",
       "      <td>0</td>\n",
       "      <td>[{'text': 'æ¥æ¬ãã¬ã', 'indices': [103, ...</td>\n",
       "    </tr>\n",
       "    <tr>\n",
       "      <th>4</th>\n",
       "      <td>1118677974574825472</td>\n",
       "      <td>2019-04-18 00:49:47</td>\n",
       "      <td>Check out todayâs news on @GlasswingVC portf...</td>\n",
       "      <td>Katharine Panessidi</td>\n",
       "      <td>KatPan</td>\n",
       "      <td>2231</td>\n",
       "      <td>1384</td>\n",
       "      <td>0</td>\n",
       "      <td>0</td>\n",
       "      <td>[{'text': 'AI', 'indices': [194, 197]}, {'text...</td>\n",
       "    </tr>\n",
       "  </tbody>\n",
       "</table>\n",
       "</div>"
      ],
      "text/plain": [
       "                    id           created_at  \\\n",
       "0  1118678264581505024  2019-04-18 00:50:56   \n",
       "1  1118678197829361664  2019-04-18 00:50:41   \n",
       "2  1118678194712915969  2019-04-18 00:50:40   \n",
       "3  1118678131743711233  2019-04-18 00:50:25   \n",
       "4  1118677974574825472  2019-04-18 00:49:47   \n",
       "\n",
       "                                                text                 user  \\\n",
       "0             #AI #education https://t.co/nvh7t1jMjf      Carol Tonhauser   \n",
       "1  RT DeepLearn007 \"RT DeepLearn007: An Excellent...       Mahavira Paris   \n",
       "2  RT DeepLearn007 \"RT DeepLearn007: Top #AI Infl...       Mahavira Paris   \n",
       "3  ðåãæ¹æ¹é©ãæè­ããæ¥ãã¬æ...              Screens   \n",
       "4  Check out todayâs news on @GlasswingVC portf...  Katharine Panessidi   \n",
       "\n",
       "     screen_name  friends_count  followers_count  retweet_count  \\\n",
       "0           cmt1           3101             4656              0   \n",
       "1  ParisMahavira            132              175              0   \n",
       "2  ParisMahavira            132              175              0   \n",
       "3    screens_lab             10              230              0   \n",
       "4         KatPan           2231             1384              0   \n",
       "\n",
       "   favorite_count                                           Hashtags  \n",
       "0               0  [{'text': 'AI', 'indices': [0, 3]}, {'text': '...  \n",
       "1               0  [{'text': 'DeepLearning', 'indices': [70, 83]}...  \n",
       "2               0  [{'text': 'AI', 'indices': [38, 41]}, {'text':...  \n",
       "3               0  [{'text': 'æ¥æ¬ãã¬ã', 'indices': [103, ...  \n",
       "4               0  [{'text': 'AI', 'indices': [194, 197]}, {'text...  "
      ]
     },
     "execution_count": 10,
     "metadata": {},
     "output_type": "execute_result"
    }
   ],
   "source": [
    "dataset_1=dataframe('AI') #Dataset for #AI\n",
    "dataset_1.head()"
   ]
  },
  {
   "cell_type": "code",
   "execution_count": 11,
   "metadata": {},
   "outputs": [
    {
     "name": "stdout",
     "output_type": "stream",
     "text": [
      "<class 'pandas.core.frame.DataFrame'>\n",
      "RangeIndex: 889 entries, 0 to 888\n",
      "Data columns (total 10 columns):\n",
      "id                 889 non-null int64\n",
      "created_at         889 non-null object\n",
      "text               889 non-null object\n",
      "user               889 non-null object\n",
      "screen_name        889 non-null object\n",
      "friends_count      889 non-null int64\n",
      "followers_count    889 non-null int64\n",
      "retweet_count      889 non-null int64\n",
      "favorite_count     889 non-null int64\n",
      "Hashtags           889 non-null object\n",
      "dtypes: int64(5), object(5)\n",
      "memory usage: 69.5+ KB\n"
     ]
    }
   ],
   "source": [
    "dataset_1.info()"
   ]
  },
  {
   "cell_type": "code",
   "execution_count": 12,
   "metadata": {},
   "outputs": [
    {
     "data": {
      "text/html": [
       "<div>\n",
       "<style scoped>\n",
       "    .dataframe tbody tr th:only-of-type {\n",
       "        vertical-align: middle;\n",
       "    }\n",
       "\n",
       "    .dataframe tbody tr th {\n",
       "        vertical-align: top;\n",
       "    }\n",
       "\n",
       "    .dataframe thead th {\n",
       "        text-align: right;\n",
       "    }\n",
       "</style>\n",
       "<table border=\"1\" class=\"dataframe\">\n",
       "  <thead>\n",
       "    <tr style=\"text-align: right;\">\n",
       "      <th></th>\n",
       "      <th>id</th>\n",
       "      <th>friends_count</th>\n",
       "      <th>followers_count</th>\n",
       "      <th>retweet_count</th>\n",
       "      <th>favorite_count</th>\n",
       "    </tr>\n",
       "  </thead>\n",
       "  <tbody>\n",
       "    <tr>\n",
       "      <th>count</th>\n",
       "      <td>8.890000e+02</td>\n",
       "      <td>889.000000</td>\n",
       "      <td>8.890000e+02</td>\n",
       "      <td>889.000000</td>\n",
       "      <td>889.000000</td>\n",
       "    </tr>\n",
       "    <tr>\n",
       "      <th>mean</th>\n",
       "      <td>1.118652e+18</td>\n",
       "      <td>6285.381327</td>\n",
       "      <td>2.549689e+04</td>\n",
       "      <td>0.734533</td>\n",
       "      <td>0.947132</td>\n",
       "    </tr>\n",
       "    <tr>\n",
       "      <th>std</th>\n",
       "      <td>1.375920e+13</td>\n",
       "      <td>23537.737915</td>\n",
       "      <td>2.919395e+05</td>\n",
       "      <td>1.783732</td>\n",
       "      <td>4.022532</td>\n",
       "    </tr>\n",
       "    <tr>\n",
       "      <th>min</th>\n",
       "      <td>1.118632e+18</td>\n",
       "      <td>0.000000</td>\n",
       "      <td>3.000000e+00</td>\n",
       "      <td>0.000000</td>\n",
       "      <td>0.000000</td>\n",
       "    </tr>\n",
       "    <tr>\n",
       "      <th>25%</th>\n",
       "      <td>1.118639e+18</td>\n",
       "      <td>315.000000</td>\n",
       "      <td>3.960000e+02</td>\n",
       "      <td>0.000000</td>\n",
       "      <td>0.000000</td>\n",
       "    </tr>\n",
       "    <tr>\n",
       "      <th>50%</th>\n",
       "      <td>1.118651e+18</td>\n",
       "      <td>1495.000000</td>\n",
       "      <td>2.470000e+03</td>\n",
       "      <td>0.000000</td>\n",
       "      <td>0.000000</td>\n",
       "    </tr>\n",
       "    <tr>\n",
       "      <th>75%</th>\n",
       "      <td>1.118665e+18</td>\n",
       "      <td>4896.000000</td>\n",
       "      <td>7.304000e+03</td>\n",
       "      <td>1.000000</td>\n",
       "      <td>1.000000</td>\n",
       "    </tr>\n",
       "    <tr>\n",
       "      <th>max</th>\n",
       "      <td>1.118678e+18</td>\n",
       "      <td>227041.000000</td>\n",
       "      <td>8.545650e+06</td>\n",
       "      <td>21.000000</td>\n",
       "      <td>77.000000</td>\n",
       "    </tr>\n",
       "  </tbody>\n",
       "</table>\n",
       "</div>"
      ],
      "text/plain": [
       "                 id  friends_count  followers_count  retweet_count  \\\n",
       "count  8.890000e+02     889.000000     8.890000e+02     889.000000   \n",
       "mean   1.118652e+18    6285.381327     2.549689e+04       0.734533   \n",
       "std    1.375920e+13   23537.737915     2.919395e+05       1.783732   \n",
       "min    1.118632e+18       0.000000     3.000000e+00       0.000000   \n",
       "25%    1.118639e+18     315.000000     3.960000e+02       0.000000   \n",
       "50%    1.118651e+18    1495.000000     2.470000e+03       0.000000   \n",
       "75%    1.118665e+18    4896.000000     7.304000e+03       1.000000   \n",
       "max    1.118678e+18  227041.000000     8.545650e+06      21.000000   \n",
       "\n",
       "       favorite_count  \n",
       "count      889.000000  \n",
       "mean         0.947132  \n",
       "std          4.022532  \n",
       "min          0.000000  \n",
       "25%          0.000000  \n",
       "50%          0.000000  \n",
       "75%          1.000000  \n",
       "max         77.000000  "
      ]
     },
     "execution_count": 12,
     "metadata": {},
     "output_type": "execute_result"
    }
   ],
   "source": [
    "dataset_1.describe()"
   ]
  },
  {
   "cell_type": "code",
   "execution_count": 13,
   "metadata": {},
   "outputs": [
    {
     "data": {
      "text/html": [
       "<div>\n",
       "<style scoped>\n",
       "    .dataframe tbody tr th:only-of-type {\n",
       "        vertical-align: middle;\n",
       "    }\n",
       "\n",
       "    .dataframe tbody tr th {\n",
       "        vertical-align: top;\n",
       "    }\n",
       "\n",
       "    .dataframe thead th {\n",
       "        text-align: right;\n",
       "    }\n",
       "</style>\n",
       "<table border=\"1\" class=\"dataframe\">\n",
       "  <thead>\n",
       "    <tr style=\"text-align: right;\">\n",
       "      <th></th>\n",
       "      <th>id</th>\n",
       "      <th>created_at</th>\n",
       "      <th>text</th>\n",
       "      <th>user</th>\n",
       "      <th>screen_name</th>\n",
       "      <th>friends_count</th>\n",
       "      <th>followers_count</th>\n",
       "      <th>retweet_count</th>\n",
       "      <th>favorite_count</th>\n",
       "      <th>Hashtags</th>\n",
       "    </tr>\n",
       "  </thead>\n",
       "  <tbody>\n",
       "    <tr>\n",
       "      <th>0</th>\n",
       "      <td>1118676868876705793</td>\n",
       "      <td>2019-04-18 00:45:24</td>\n",
       "      <td>Learn SSRS SQL Reporting &amp;amp; #BusinessIntell...</td>\n",
       "      <td>Jamil Ahmed</td>\n",
       "      <td>ahmedjr_16</td>\n",
       "      <td>27347</td>\n",
       "      <td>25630</td>\n",
       "      <td>0</td>\n",
       "      <td>0</td>\n",
       "      <td>[{'text': 'BusinessIntelligence', 'indices': [...</td>\n",
       "    </tr>\n",
       "    <tr>\n",
       "      <th>1</th>\n",
       "      <td>1118676113859981312</td>\n",
       "      <td>2019-04-18 00:42:24</td>\n",
       "      <td>Thanks in advance for not freezing my credit c...</td>\n",
       "      <td>Brittany Chow</td>\n",
       "      <td>bchow03</td>\n",
       "      <td>148</td>\n",
       "      <td>110</td>\n",
       "      <td>1</td>\n",
       "      <td>4</td>\n",
       "      <td>[{'text': 'AI', 'indices': [110, 113]}, {'text...</td>\n",
       "    </tr>\n",
       "    <tr>\n",
       "      <th>2</th>\n",
       "      <td>1118673101082857473</td>\n",
       "      <td>2019-04-18 00:30:25</td>\n",
       "      <td>Listen to the LIVE panel discussion on the lat...</td>\n",
       "      <td>Eddy Travels</td>\n",
       "      <td>eddytravels</td>\n",
       "      <td>130</td>\n",
       "      <td>51</td>\n",
       "      <td>3</td>\n",
       "      <td>4</td>\n",
       "      <td>[{'text': 'AI', 'indices': [115, 118]}, {'text...</td>\n",
       "    </tr>\n",
       "    <tr>\n",
       "      <th>3</th>\n",
       "      <td>1118671829885841415</td>\n",
       "      <td>2019-04-18 00:25:22</td>\n",
       "      <td>#SAPPHIRENOW #musician #rocknroll #innovation ...</td>\n",
       "      <td>James J. Piacentino</td>\n",
       "      <td>jamespiacentino</td>\n",
       "      <td>78</td>\n",
       "      <td>167</td>\n",
       "      <td>0</td>\n",
       "      <td>0</td>\n",
       "      <td>[{'text': 'SAPPHIRENOW', 'indices': [0, 12]}, ...</td>\n",
       "    </tr>\n",
       "    <tr>\n",
       "      <th>4</th>\n",
       "      <td>1118670613730615297</td>\n",
       "      <td>2019-04-18 00:20:32</td>\n",
       "      <td>Agree. Common misconception - #ML bias will so...</td>\n",
       "      <td>Citizen4.0</td>\n",
       "      <td>Citizen4_0</td>\n",
       "      <td>15</td>\n",
       "      <td>3</td>\n",
       "      <td>1</td>\n",
       "      <td>1</td>\n",
       "      <td>[{'text': 'ML', 'indices': [30, 33]}, {'text':...</td>\n",
       "    </tr>\n",
       "  </tbody>\n",
       "</table>\n",
       "</div>"
      ],
      "text/plain": [
       "                    id           created_at  \\\n",
       "0  1118676868876705793  2019-04-18 00:45:24   \n",
       "1  1118676113859981312  2019-04-18 00:42:24   \n",
       "2  1118673101082857473  2019-04-18 00:30:25   \n",
       "3  1118671829885841415  2019-04-18 00:25:22   \n",
       "4  1118670613730615297  2019-04-18 00:20:32   \n",
       "\n",
       "                                                text                 user  \\\n",
       "0  Learn SSRS SQL Reporting &amp; #BusinessIntell...          Jamil Ahmed   \n",
       "1  Thanks in advance for not freezing my credit c...        Brittany Chow   \n",
       "2  Listen to the LIVE panel discussion on the lat...         Eddy Travels   \n",
       "3  #SAPPHIRENOW #musician #rocknroll #innovation ...  James J. Piacentino   \n",
       "4  Agree. Common misconception - #ML bias will so...           Citizen4.0   \n",
       "\n",
       "       screen_name  friends_count  followers_count  retweet_count  \\\n",
       "0       ahmedjr_16          27347            25630              0   \n",
       "1          bchow03            148              110              1   \n",
       "2      eddytravels            130               51              3   \n",
       "3  jamespiacentino             78              167              0   \n",
       "4       Citizen4_0             15                3              1   \n",
       "\n",
       "   favorite_count                                           Hashtags  \n",
       "0               0  [{'text': 'BusinessIntelligence', 'indices': [...  \n",
       "1               4  [{'text': 'AI', 'indices': [110, 113]}, {'text...  \n",
       "2               4  [{'text': 'AI', 'indices': [115, 118]}, {'text...  \n",
       "3               0  [{'text': 'SAPPHIRENOW', 'indices': [0, 12]}, ...  \n",
       "4               1  [{'text': 'ML', 'indices': [30, 33]}, {'text':...  "
      ]
     },
     "execution_count": 13,
     "metadata": {},
     "output_type": "execute_result"
    }
   ],
   "source": [
    "dataset_2=dataframe('ML') #Dataset for #ML\n",
    "dataset_2.head()"
   ]
  },
  {
   "cell_type": "code",
   "execution_count": 14,
   "metadata": {},
   "outputs": [
    {
     "name": "stdout",
     "output_type": "stream",
     "text": [
      "<class 'pandas.core.frame.DataFrame'>\n",
      "RangeIndex: 655 entries, 0 to 654\n",
      "Data columns (total 10 columns):\n",
      "id                 655 non-null int64\n",
      "created_at         655 non-null object\n",
      "text               655 non-null object\n",
      "user               655 non-null object\n",
      "screen_name        655 non-null object\n",
      "friends_count      655 non-null int64\n",
      "followers_count    655 non-null int64\n",
      "retweet_count      655 non-null int64\n",
      "favorite_count     655 non-null int64\n",
      "Hashtags           655 non-null object\n",
      "dtypes: int64(5), object(5)\n",
      "memory usage: 51.2+ KB\n"
     ]
    }
   ],
   "source": [
    "dataset_2.info()"
   ]
  },
  {
   "cell_type": "code",
   "execution_count": 15,
   "metadata": {},
   "outputs": [
    {
     "data": {
      "text/html": [
       "<div>\n",
       "<style scoped>\n",
       "    .dataframe tbody tr th:only-of-type {\n",
       "        vertical-align: middle;\n",
       "    }\n",
       "\n",
       "    .dataframe tbody tr th {\n",
       "        vertical-align: top;\n",
       "    }\n",
       "\n",
       "    .dataframe thead th {\n",
       "        text-align: right;\n",
       "    }\n",
       "</style>\n",
       "<table border=\"1\" class=\"dataframe\">\n",
       "  <thead>\n",
       "    <tr style=\"text-align: right;\">\n",
       "      <th></th>\n",
       "      <th>id</th>\n",
       "      <th>friends_count</th>\n",
       "      <th>followers_count</th>\n",
       "      <th>retweet_count</th>\n",
       "      <th>favorite_count</th>\n",
       "    </tr>\n",
       "  </thead>\n",
       "  <tbody>\n",
       "    <tr>\n",
       "      <th>count</th>\n",
       "      <td>6.550000e+02</td>\n",
       "      <td>655.000000</td>\n",
       "      <td>655.000000</td>\n",
       "      <td>655.000000</td>\n",
       "      <td>655.000000</td>\n",
       "    </tr>\n",
       "    <tr>\n",
       "      <th>mean</th>\n",
       "      <td>1.118566e+18</td>\n",
       "      <td>8071.348092</td>\n",
       "      <td>12016.309924</td>\n",
       "      <td>1.351145</td>\n",
       "      <td>1.832061</td>\n",
       "    </tr>\n",
       "    <tr>\n",
       "      <th>std</th>\n",
       "      <td>5.143386e+13</td>\n",
       "      <td>28649.103955</td>\n",
       "      <td>39957.823702</td>\n",
       "      <td>4.806220</td>\n",
       "      <td>8.261728</td>\n",
       "    </tr>\n",
       "    <tr>\n",
       "      <th>min</th>\n",
       "      <td>1.118478e+18</td>\n",
       "      <td>0.000000</td>\n",
       "      <td>0.000000</td>\n",
       "      <td>0.000000</td>\n",
       "      <td>0.000000</td>\n",
       "    </tr>\n",
       "    <tr>\n",
       "      <th>25%</th>\n",
       "      <td>1.118522e+18</td>\n",
       "      <td>406.000000</td>\n",
       "      <td>516.000000</td>\n",
       "      <td>0.000000</td>\n",
       "      <td>0.000000</td>\n",
       "    </tr>\n",
       "    <tr>\n",
       "      <th>50%</th>\n",
       "      <td>1.118560e+18</td>\n",
       "      <td>1964.000000</td>\n",
       "      <td>3130.000000</td>\n",
       "      <td>0.000000</td>\n",
       "      <td>0.000000</td>\n",
       "    </tr>\n",
       "    <tr>\n",
       "      <th>75%</th>\n",
       "      <td>1.118608e+18</td>\n",
       "      <td>4163.000000</td>\n",
       "      <td>5689.000000</td>\n",
       "      <td>1.000000</td>\n",
       "      <td>2.000000</td>\n",
       "    </tr>\n",
       "    <tr>\n",
       "      <th>max</th>\n",
       "      <td>1.118677e+18</td>\n",
       "      <td>227041.000000</td>\n",
       "      <td>498461.000000</td>\n",
       "      <td>104.000000</td>\n",
       "      <td>164.000000</td>\n",
       "    </tr>\n",
       "  </tbody>\n",
       "</table>\n",
       "</div>"
      ],
      "text/plain": [
       "                 id  friends_count  followers_count  retweet_count  \\\n",
       "count  6.550000e+02     655.000000       655.000000     655.000000   \n",
       "mean   1.118566e+18    8071.348092     12016.309924       1.351145   \n",
       "std    5.143386e+13   28649.103955     39957.823702       4.806220   \n",
       "min    1.118478e+18       0.000000         0.000000       0.000000   \n",
       "25%    1.118522e+18     406.000000       516.000000       0.000000   \n",
       "50%    1.118560e+18    1964.000000      3130.000000       0.000000   \n",
       "75%    1.118608e+18    4163.000000      5689.000000       1.000000   \n",
       "max    1.118677e+18  227041.000000    498461.000000     104.000000   \n",
       "\n",
       "       favorite_count  \n",
       "count      655.000000  \n",
       "mean         1.832061  \n",
       "std          8.261728  \n",
       "min          0.000000  \n",
       "25%          0.000000  \n",
       "50%          0.000000  \n",
       "75%          2.000000  \n",
       "max        164.000000  "
      ]
     },
     "execution_count": 15,
     "metadata": {},
     "output_type": "execute_result"
    }
   ],
   "source": [
    "dataset_2.describe()"
   ]
  },
  {
   "cell_type": "code",
   "execution_count": 16,
   "metadata": {},
   "outputs": [
    {
     "data": {
      "text/html": [
       "<div>\n",
       "<style scoped>\n",
       "    .dataframe tbody tr th:only-of-type {\n",
       "        vertical-align: middle;\n",
       "    }\n",
       "\n",
       "    .dataframe tbody tr th {\n",
       "        vertical-align: top;\n",
       "    }\n",
       "\n",
       "    .dataframe thead th {\n",
       "        text-align: right;\n",
       "    }\n",
       "</style>\n",
       "<table border=\"1\" class=\"dataframe\">\n",
       "  <thead>\n",
       "    <tr style=\"text-align: right;\">\n",
       "      <th></th>\n",
       "      <th>id</th>\n",
       "      <th>created_at</th>\n",
       "      <th>text</th>\n",
       "      <th>user</th>\n",
       "      <th>screen_name</th>\n",
       "      <th>friends_count</th>\n",
       "      <th>followers_count</th>\n",
       "      <th>retweet_count</th>\n",
       "      <th>favorite_count</th>\n",
       "      <th>Hashtags</th>\n",
       "    </tr>\n",
       "  </thead>\n",
       "  <tbody>\n",
       "    <tr>\n",
       "      <th>0</th>\n",
       "      <td>1118679157972430849</td>\n",
       "      <td>2019-04-18 00:54:29</td>\n",
       "      <td>These two usecases that are driving #innovatio...</td>\n",
       "      <td>Shailendra Kumar</td>\n",
       "      <td>meisshaily</td>\n",
       "      <td>15532</td>\n",
       "      <td>17631</td>\n",
       "      <td>0</td>\n",
       "      <td>0</td>\n",
       "      <td>[{'text': 'innovation', 'indices': [36, 47]}, ...</td>\n",
       "    </tr>\n",
       "    <tr>\n",
       "      <th>1</th>\n",
       "      <td>1118678773363298304</td>\n",
       "      <td>2019-04-18 00:52:58</td>\n",
       "      <td>RT DeepLearn007: An Excellent Read: A Deep Div...</td>\n",
       "      <td>EditEngine</td>\n",
       "      <td>Edit_Engine</td>\n",
       "      <td>681</td>\n",
       "      <td>223</td>\n",
       "      <td>0</td>\n",
       "      <td>0</td>\n",
       "      <td>[{'text': 'DeepLearning', 'indices': [53, 66]}...</td>\n",
       "    </tr>\n",
       "    <tr>\n",
       "      <th>2</th>\n",
       "      <td>1118678551245524993</td>\n",
       "      <td>2019-04-18 00:52:05</td>\n",
       "      <td>HT KirkDBorne: 12 excellent selected articles ...</td>\n",
       "      <td>Adam Gabriel, #TOPð #Influencerð¡</td>\n",
       "      <td>THEAdamGabriel</td>\n",
       "      <td>49</td>\n",
       "      <td>25179</td>\n",
       "      <td>2</td>\n",
       "      <td>1</td>\n",
       "      <td>[{'text': 'DataScience', 'indices': [49, 61]},...</td>\n",
       "    </tr>\n",
       "    <tr>\n",
       "      <th>3</th>\n",
       "      <td>1118678549366439936</td>\n",
       "      <td>2019-04-18 00:52:04</td>\n",
       "      <td>How to Predict using Logistic Regression in Py...</td>\n",
       "      <td>SB #5G #HM19</td>\n",
       "      <td>amruthasuri</td>\n",
       "      <td>2424</td>\n",
       "      <td>3263</td>\n",
       "      <td>0</td>\n",
       "      <td>0</td>\n",
       "      <td>[{'text': 'BigData', 'indices': [85, 93]}, {'t...</td>\n",
       "    </tr>\n",
       "    <tr>\n",
       "      <th>4</th>\n",
       "      <td>1118678548611522560</td>\n",
       "      <td>2019-04-18 00:52:04</td>\n",
       "      <td>HT KirkDBorne: How the #IoT Brings #SmartCitie...</td>\n",
       "      <td>Adam Gabriel, #TOPð #Influencerð¡</td>\n",
       "      <td>THEAdamGabriel</td>\n",
       "      <td>49</td>\n",
       "      <td>25179</td>\n",
       "      <td>3</td>\n",
       "      <td>2</td>\n",
       "      <td>[{'text': 'IoT', 'indices': [23, 27]}, {'text'...</td>\n",
       "    </tr>\n",
       "  </tbody>\n",
       "</table>\n",
       "</div>"
      ],
      "text/plain": [
       "                    id           created_at  \\\n",
       "0  1118679157972430849  2019-04-18 00:54:29   \n",
       "1  1118678773363298304  2019-04-18 00:52:58   \n",
       "2  1118678551245524993  2019-04-18 00:52:05   \n",
       "3  1118678549366439936  2019-04-18 00:52:04   \n",
       "4  1118678548611522560  2019-04-18 00:52:04   \n",
       "\n",
       "                                                text  \\\n",
       "0  These two usecases that are driving #innovatio...   \n",
       "1  RT DeepLearn007: An Excellent Read: A Deep Div...   \n",
       "2  HT KirkDBorne: 12 excellent selected articles ...   \n",
       "3  How to Predict using Logistic Regression in Py...   \n",
       "4  HT KirkDBorne: How the #IoT Brings #SmartCitie...   \n",
       "\n",
       "                                     user     screen_name  friends_count  \\\n",
       "0                        Shailendra Kumar      meisshaily          15532   \n",
       "1                              EditEngine     Edit_Engine            681   \n",
       "2  Adam Gabriel, #TOPð #Influencerð¡  THEAdamGabriel             49   \n",
       "3                            SB #5G #HM19     amruthasuri           2424   \n",
       "4  Adam Gabriel, #TOPð #Influencerð¡  THEAdamGabriel             49   \n",
       "\n",
       "   followers_count  retweet_count  favorite_count  \\\n",
       "0            17631              0               0   \n",
       "1              223              0               0   \n",
       "2            25179              2               1   \n",
       "3             3263              0               0   \n",
       "4            25179              3               2   \n",
       "\n",
       "                                            Hashtags  \n",
       "0  [{'text': 'innovation', 'indices': [36, 47]}, ...  \n",
       "1  [{'text': 'DeepLearning', 'indices': [53, 66]}...  \n",
       "2  [{'text': 'DataScience', 'indices': [49, 61]},...  \n",
       "3  [{'text': 'BigData', 'indices': [85, 93]}, {'t...  \n",
       "4  [{'text': 'IoT', 'indices': [23, 27]}, {'text'...  "
      ]
     },
     "execution_count": 16,
     "metadata": {},
     "output_type": "execute_result"
    }
   ],
   "source": [
    "dataset_3=dataframe('DataScience') #Dataset for #DataScience\n",
    "dataset_3.head()"
   ]
  },
  {
   "cell_type": "code",
   "execution_count": 17,
   "metadata": {},
   "outputs": [
    {
     "name": "stdout",
     "output_type": "stream",
     "text": [
      "<class 'pandas.core.frame.DataFrame'>\n",
      "RangeIndex: 805 entries, 0 to 804\n",
      "Data columns (total 10 columns):\n",
      "id                 805 non-null int64\n",
      "created_at         805 non-null object\n",
      "text               805 non-null object\n",
      "user               805 non-null object\n",
      "screen_name        805 non-null object\n",
      "friends_count      805 non-null int64\n",
      "followers_count    805 non-null int64\n",
      "retweet_count      805 non-null int64\n",
      "favorite_count     805 non-null int64\n",
      "Hashtags           805 non-null object\n",
      "dtypes: int64(5), object(5)\n",
      "memory usage: 63.0+ KB\n"
     ]
    }
   ],
   "source": [
    "dataset_3.info()"
   ]
  },
  {
   "cell_type": "code",
   "execution_count": 32,
   "metadata": {},
   "outputs": [
    {
     "data": {
      "text/html": [
       "<div>\n",
       "<style scoped>\n",
       "    .dataframe tbody tr th:only-of-type {\n",
       "        vertical-align: middle;\n",
       "    }\n",
       "\n",
       "    .dataframe tbody tr th {\n",
       "        vertical-align: top;\n",
       "    }\n",
       "\n",
       "    .dataframe thead th {\n",
       "        text-align: right;\n",
       "    }\n",
       "</style>\n",
       "<table border=\"1\" class=\"dataframe\">\n",
       "  <thead>\n",
       "    <tr style=\"text-align: right;\">\n",
       "      <th></th>\n",
       "      <th>id</th>\n",
       "      <th>friends_count</th>\n",
       "      <th>followers_count</th>\n",
       "      <th>retweet_count</th>\n",
       "      <th>favorite_count</th>\n",
       "    </tr>\n",
       "  </thead>\n",
       "  <tbody>\n",
       "    <tr>\n",
       "      <th>count</th>\n",
       "      <td>8.050000e+02</td>\n",
       "      <td>805.000000</td>\n",
       "      <td>805.000000</td>\n",
       "      <td>805.000000</td>\n",
       "      <td>805.000000</td>\n",
       "    </tr>\n",
       "    <tr>\n",
       "      <th>mean</th>\n",
       "      <td>1.118604e+18</td>\n",
       "      <td>5537.254658</td>\n",
       "      <td>18382.111801</td>\n",
       "      <td>1.483230</td>\n",
       "      <td>1.890683</td>\n",
       "    </tr>\n",
       "    <tr>\n",
       "      <th>std</th>\n",
       "      <td>4.061163e+13</td>\n",
       "      <td>18158.390941</td>\n",
       "      <td>46399.503804</td>\n",
       "      <td>3.291218</td>\n",
       "      <td>6.706570</td>\n",
       "    </tr>\n",
       "    <tr>\n",
       "      <th>min</th>\n",
       "      <td>1.118543e+18</td>\n",
       "      <td>0.000000</td>\n",
       "      <td>3.000000</td>\n",
       "      <td>0.000000</td>\n",
       "      <td>0.000000</td>\n",
       "    </tr>\n",
       "    <tr>\n",
       "      <th>25%</th>\n",
       "      <td>1.118567e+18</td>\n",
       "      <td>208.000000</td>\n",
       "      <td>644.000000</td>\n",
       "      <td>0.000000</td>\n",
       "      <td>0.000000</td>\n",
       "    </tr>\n",
       "    <tr>\n",
       "      <th>50%</th>\n",
       "      <td>1.118596e+18</td>\n",
       "      <td>891.000000</td>\n",
       "      <td>2922.000000</td>\n",
       "      <td>1.000000</td>\n",
       "      <td>1.000000</td>\n",
       "    </tr>\n",
       "    <tr>\n",
       "      <th>75%</th>\n",
       "      <td>1.118638e+18</td>\n",
       "      <td>3853.000000</td>\n",
       "      <td>11699.000000</td>\n",
       "      <td>2.000000</td>\n",
       "      <td>2.000000</td>\n",
       "    </tr>\n",
       "    <tr>\n",
       "      <th>max</th>\n",
       "      <td>1.118679e+18</td>\n",
       "      <td>181870.000000</td>\n",
       "      <td>228185.000000</td>\n",
       "      <td>44.000000</td>\n",
       "      <td>150.000000</td>\n",
       "    </tr>\n",
       "  </tbody>\n",
       "</table>\n",
       "</div>"
      ],
      "text/plain": [
       "                 id  friends_count  followers_count  retweet_count  \\\n",
       "count  8.050000e+02     805.000000       805.000000     805.000000   \n",
       "mean   1.118604e+18    5537.254658     18382.111801       1.483230   \n",
       "std    4.061163e+13   18158.390941     46399.503804       3.291218   \n",
       "min    1.118543e+18       0.000000         3.000000       0.000000   \n",
       "25%    1.118567e+18     208.000000       644.000000       0.000000   \n",
       "50%    1.118596e+18     891.000000      2922.000000       1.000000   \n",
       "75%    1.118638e+18    3853.000000     11699.000000       2.000000   \n",
       "max    1.118679e+18  181870.000000    228185.000000      44.000000   \n",
       "\n",
       "       favorite_count  \n",
       "count      805.000000  \n",
       "mean         1.890683  \n",
       "std          6.706570  \n",
       "min          0.000000  \n",
       "25%          0.000000  \n",
       "50%          1.000000  \n",
       "75%          2.000000  \n",
       "max        150.000000  "
      ]
     },
     "execution_count": 32,
     "metadata": {},
     "output_type": "execute_result"
    }
   ],
   "source": [
    "dataset_3.describe()"
   ]
  },
  {
   "cell_type": "markdown",
   "metadata": {},
   "source": [
    "# 1.5 Dataset Cleaning <a id='dataset_cleaning'></a>\n",
    "Since this dataset is scraped from twitter, it is bound to have some irregular values. By seeing the summary of our dataset we have gained some important insight about the type of data, and we need to clean the data to be able to further process it.\n",
    "\n",
    "[Back to top](#Introduction)"
   ]
  },
  {
   "cell_type": "markdown",
   "metadata": {},
   "source": [
    "### 1.5.1 Functions to clean data <a id='functions_for_cleaning'></a>\n",
    "\n",
    "We have created a wide array of functions to clean the data by removing hashtags and other entities in the text ('@', 'â'..). Then we have removed all non-ascii characters from the text and also removed all Emojis. Along with this we are also extracting hasgtags from the tweets and saving them in a seperate column\n",
    "\n",
    "[Back to top](#dataset_cleaning)"
   ]
  },
  {
   "cell_type": "code",
   "execution_count": 19,
   "metadata": {},
   "outputs": [],
   "source": [
    "regexp = {\"HASHTAG\": r\"(#[\\w\\d]+)\"}\n",
    "regexp = dict((key, re.compile(value)) for key, value in regexp.items())\n",
    "\n",
    "#Function to remove hashtags in the text\n",
    "def remove_hashtags(s):\n",
    "    return re.findall(regexp[\"HASHTAG\"], s)\n",
    "\n",
    "#Function to extract hashtags from the text\n",
    "def extract_hash_tags(s):\n",
    "    my_set=set(part[1:] for part in s.split() if part.startswith('#'))\n",
    "    my_list = list(my_set)\n",
    "    return(my_list)\n",
    "\n",
    "#Function to remove hashtags in the text and use it in a new column\n",
    "def remove_hashtags_(x):\n",
    "    if '#' in x:\n",
    "        return str(x.replace('#',''))\n",
    "\n",
    "#Function to remove Emojis\n",
    "def remove_emoji(string):\n",
    "    emoji_pattern = re.compile(\"[\" u\"\\U0001F600-\\U0001F64F\"  # emoticons \n",
    "                                u\"\\U0001F300-\\U0001F5FF\"  # symbols & pictographs\n",
    "                                u\"\\U0001F680-\\U0001F6FF\"  # transport & map symbols\n",
    "                                u\"\\U0001F1E0-\\U0001F1FF\"  # flags (iOS)\n",
    "                                u\"\\U00002702-\\U000027B0\"\n",
    "                                u\"\\U000024C2-\\U0001F251\"\n",
    "                                u\"\\U0001f926-\\U0001f937\"\n",
    "                                u'\\U00010000-\\U0010ffff'\n",
    "                                u\"\\u200d\"\n",
    "                                u\"\\u2640-\\u2642\"\n",
    "                                u\"\\u2600-\\u2B55\"\n",
    "                                u\"\\u23cf\"\n",
    "                                u\"\\u23e9\"\n",
    "                                u\"\\u231a\"\n",
    "                                u\"\\u3030\"\n",
    "                                u\"\\ufe0f\"\n",
    "                                \"]+\", flags=re.UNICODE)\n",
    "    return emoji_pattern.sub(r'', string)\n",
    "\n",
    "#Function to remove symbols like @ and # in the text and use it in a new column\n",
    "def strip_all_entities(text):\n",
    "    entity_prefixes = ['@','#']\n",
    "    for separator in  string.punctuation:\n",
    "        if separator not in entity_prefixes :\n",
    "            text = text.replace(separator,'')\n",
    "    words = []\n",
    "    for word in text.split():\n",
    "        word = word.strip()\n",
    "        if word:\n",
    "            if word[0] not in entity_prefixes:\n",
    "                words.append(word)\n",
    "    return ' '.join(words)\n",
    "\n",
    "#Function to remove symbols that are non-ascii (viz. 'â')\n",
    "def removeNonAscii(s): return \"\".join(i for i in s if ord(i)<128)\n",
    "\n",
    "#Function to call all above functions in one place\n",
    "def column_text(dataset):\n",
    "    dataset['text_1']=dataset['text'].apply(lambda row: row.encode('utf-8'))\n",
    "    dataset['text_1']=dataset['text'].apply(lambda row: remove_emoji(row))\n",
    "    dataset['Hashtags']=dataset['text'].apply(lambda row: remove_hashtags(row))\n",
    "    dataset['text']=dataset['text'].apply(lambda row: removeNonAscii(row))\n",
    "    list_trial=dataset['text'].apply(lambda row: remove_hashtags(row))\n",
    "    dataset['Hashtags']=dataset['text'].apply(lambda row: extract_hash_tags(row))\n",
    "    list_trial=dataset['Hashtags'].tolist()\n",
    "    dataset['TextNoHashtags']=dataset['text'].apply(remove_hashtags_)\n",
    "    dataset['TextNoMentions']=dataset['text'].apply(strip_all_entities)\n",
    "    return(list_trial)\n",
    "\n",
    "#\n",
    "def hashtag_list(list_trial):\n",
    "    #list_trial=list_trial.tolist()\n",
    "    result_trial = list(x for l in list_trial for x in l)\n",
    "    result_trial = list(map(lambda each:each.strip(\"#\"), result_trial))\n",
    "    result_set=set(result_trial)\n",
    "    print (result_set)\n",
    "    return (result_trial)   \n",
    "\n",
    "#\n",
    "def list_to_dict(result_trial_list):\n",
    "    result_trial_list=[x.lower() for x in result_trial_list]\n",
    "    data=dict((x,result_trial_list.count(x)) for x in set(result_trial_list))\n",
    "    dataset_dict=pd.DataFrame.from_dict(data ,orient='index',columns=['Count'])\n",
    "    return(data)"
   ]
  },
  {
   "cell_type": "markdown",
   "metadata": {},
   "source": [
    "Applying the dataset cleaning function to each of our datasets and saving them in a list\n",
    "i.e. extracting the hashtags from the text and saving them as a list\n"
   ]
  },
  {
   "cell_type": "code",
   "execution_count": 20,
   "metadata": {},
   "outputs": [],
   "source": [
    "list_trial_1=column_text(dataset_1) #AI"
   ]
  },
  {
   "cell_type": "code",
   "execution_count": 21,
   "metadata": {},
   "outputs": [],
   "source": [
    "list_trial_2=column_text(dataset_2) #ML"
   ]
  },
  {
   "cell_type": "code",
   "execution_count": 22,
   "metadata": {},
   "outputs": [],
   "source": [
    "list_trial_3=column_text(dataset_3) #DataScience"
   ]
  },
  {
   "cell_type": "code",
   "execution_count": 23,
   "metadata": {},
   "outputs": [],
   "source": [
    "#dataset['text']=dataset['text'].apply(lambda row: row.encode().decode())"
   ]
  },
  {
   "cell_type": "code",
   "execution_count": 24,
   "metadata": {
    "scrolled": true
   },
   "outputs": [],
   "source": [
    "#dataset_1.to_csv('dataset_1.csv')"
   ]
  },
  {
   "cell_type": "markdown",
   "metadata": {},
   "source": [
    "# <p style=\"text-align: center;\"> 2.0 Collecting Hashtags </p> <a id='collecting_hashtags'></a>\n",
    "\n",
    "Now that we have saved all the hashtags of a tweet in a list of list it is time to perform some basic anaysis to calculate the frequency of the hashtags.\n",
    "\n",
    "The frequency of the hashtag used should be a good indicator of which hashtags should be used to data extraction from tweepy, and also would give us some insights about which hashtag to use when we are posting a tweet.\n",
    "\n",
    "[Back to top](#Introduction)"
   ]
  },
  {
   "cell_type": "markdown",
   "metadata": {},
   "source": [
    "Iterating over all the lists and mapping each individual hashtag in the list to a common list for all 3 dataset lists"
   ]
  },
  {
   "cell_type": "code",
   "execution_count": 27,
   "metadata": {},
   "outputs": [],
   "source": [
    "%%capture\n",
    "result_trial_1=hashtag_list(list_trial_1) #with hashtag AI"
   ]
  },
  {
   "cell_type": "code",
   "execution_count": 28,
   "metadata": {},
   "outputs": [],
   "source": [
    "%%capture\n",
    "result_trial_2=hashtag_list(list_trial_2) #with hashtag ML"
   ]
  },
  {
   "cell_type": "code",
   "execution_count": 34,
   "metadata": {},
   "outputs": [],
   "source": [
    "%%capture\n",
    "result_trial_3=hashtag_list(list_trial_3) #with hashtag DataScience"
   ]
  },
  {
   "cell_type": "markdown",
   "metadata": {},
   "source": [
    "Adding all the 3 lists to create a master list with all the hashtags in it."
   ]
  },
  {
   "cell_type": "code",
   "execution_count": 37,
   "metadata": {},
   "outputs": [],
   "source": [
    "result_all_list=result_trial_1+result_trial_2+result_trial_3"
   ]
  },
  {
   "cell_type": "markdown",
   "metadata": {},
   "source": [
    "# 2.1 Most occuring hashtags <a id='most_occuring_hashtag'></a>\n",
    "\n",
    "Now that we have a master list with all the hashtags, we map them in a dictionary such that we take a count for each hashtag as the value and the hashtag itself as the key.\n",
    "This we we will generate a dictionary of all the hastags that are the most occuring with their repective counts\n",
    "\n",
    "[Back to top](#collecting_hashtags)"
   ]
  },
  {
   "cell_type": "code",
   "execution_count": 38,
   "metadata": {},
   "outputs": [
    {
     "name": "stdout",
     "output_type": "stream",
     "text": [
      "ai : 1565\n",
      "datascience : 984\n",
      "ml : 783\n",
      "machinelearning : 613\n",
      "bigdata : 535\n",
      "artificialintelligence : 318\n",
      "deeplearning : 276\n",
      "iot : 255\n",
      "dl : 240\n",
      "analytics : 225\n",
      "tech : 168\n",
      "technology : 156\n",
      "fintech : 122\n",
      "data : 118\n",
      "robotics : 101\n"
     ]
    }
   ],
   "source": [
    "a=list_to_dict(result_all_list)\n",
    "for key, value in sorted(a.items(), key=lambda x: x[1], reverse=True):\n",
    "    if value >= 100:\n",
    "        print(\"{} : {}\".format(key, value))\n",
    "        "
   ]
  },
  {
   "cell_type": "markdown",
   "metadata": {},
   "source": [
    "# 2.2 Advertools <a id='advertools'></a>\n",
    "After doing the above steps we found a library that does the same thing for us \n",
    "\n",
    "[Back to top](#collecting_hashtags)"
   ]
  },
  {
   "cell_type": "markdown",
   "metadata": {},
   "source": [
    "Listing the functions that the library can perform"
   ]
  },
  {
   "cell_type": "code",
   "execution_count": 39,
   "metadata": {},
   "outputs": [],
   "source": [
    "hashtag_summary1 = adv.extract_hashtags(dataset_1['text'])"
   ]
  },
  {
   "cell_type": "code",
   "execution_count": 40,
   "metadata": {},
   "outputs": [],
   "source": [
    "hashtag_summary2 = adv.extract_hashtags(dataset_2['text'])"
   ]
  },
  {
   "cell_type": "code",
   "execution_count": 41,
   "metadata": {},
   "outputs": [],
   "source": [
    "hashtag_summary3 = adv.extract_hashtags(dataset_3['text'])"
   ]
  },
  {
   "cell_type": "code",
   "execution_count": 72,
   "metadata": {
    "scrolled": true
   },
   "outputs": [
    {
     "name": "stdout",
     "output_type": "stream",
     "text": [
      "Help on function extract_hashtags in module advertools.extract:\n",
      "\n",
      "extract_hashtags(text_list)\n",
      "    Return a summary dictionary about hashtags in ``text_list``\n",
      "    \n",
      "    Get a summary of the number of hashtags, their frequency, the top\n",
      "    ones, and more.\n",
      "    \n",
      "    :param text_list: A list of text strings.\n",
      "    :returns summary: A dictionary with various stats about hashtags\n",
      "    \n",
      "    >>> posts = ['i like #blue', 'i like #green and #blue', 'i like all']\n",
      "    >>> hashtag_summary = extract_hashtags(posts)\n",
      "    >>> hashtag_summary.keys()\n",
      "    dict_keys(['hashtags', 'hashtags_flat', 'hashtag_counts', 'hashtag_freq',\n",
      "    'top_hashtags', 'overview'])\n",
      "    \n",
      "    >>> hashtag_summary['hashtags']\n",
      "    [['#blue'], ['#green', '#blue'], []]\n",
      "    \n",
      "    A simple extract of hashtags from each of the posts. An empty list if\n",
      "    none exist\n",
      "    \n",
      "    >>> hashtag_summary['hashtags_flat']\n",
      "    ['#blue', '#green', '#blue']\n",
      "    \n",
      "    All hashtags in one flat list.\n",
      "    \n",
      "    >>> hashtag_summary['hashtag_counts']\n",
      "    [1, 2, 0]\n",
      "    \n",
      "    The count of hashtags per post.\n",
      "    \n",
      "    >>> hashtag_summary['hashtag_freq']\n",
      "    [(0, 1), (1, 1), (2, 1)]\n",
      "    \n",
      "    Shows how many posts had 0, 1, 2, 3, etc. hashtags\n",
      "    (number_of_hashtags, count)\n",
      "    \n",
      "    >>> hashtag_summary['top_hashtags']\n",
      "    [('#blue', 2), ('#green', 1)]\n",
      "    \n",
      "    >>> hashtag_summary['overview']\n",
      "    {'num_posts': 3,\n",
      "     'num_hashtags': 3,\n",
      "     'hashtags_per_post': 1.0,\n",
      "     'unique_hashtags': 2}\n",
      "\n"
     ]
    }
   ],
   "source": [
    "help(adv.extract_hashtags)"
   ]
  },
  {
   "cell_type": "code",
   "execution_count": 73,
   "metadata": {},
   "outputs": [],
   "source": [
    "summary = adv.extract_hashtags(dataset_3['text'])"
   ]
  },
  {
   "cell_type": "code",
   "execution_count": 75,
   "metadata": {},
   "outputs": [],
   "source": [
    "summary=summary['hashtags_flat']"
   ]
  },
  {
   "cell_type": "code",
   "execution_count": null,
   "metadata": {},
   "outputs": [],
   "source": []
  },
  {
   "cell_type": "code",
   "execution_count": null,
   "metadata": {},
   "outputs": [],
   "source": []
  },
  {
   "cell_type": "code",
   "execution_count": 42,
   "metadata": {},
   "outputs": [],
   "source": [
    "def Merge(dict1, dict2): \n",
    "    res = {**dict1, **dict2} \n",
    "    return res "
   ]
  },
  {
   "cell_type": "code",
   "execution_count": 58,
   "metadata": {
    "scrolled": true
   },
   "outputs": [
    {
     "data": {
      "text/plain": [
       "dict_keys(['hashtags', 'hashtags_flat', 'hashtag_counts', 'hashtag_freq', 'top_hashtags', 'overview'])"
      ]
     },
     "execution_count": 58,
     "metadata": {},
     "output_type": "execute_result"
    }
   ],
   "source": [
    "dict3= Merge(hashtag_summary1, hashtag_summary2)\n",
    "hashtag_summary = Merge(dict3, hashtag_summary3)\n",
    "hashtag_summary.keys()"
   ]
  },
  {
   "cell_type": "markdown",
   "metadata": {},
   "source": [
    "Cheching some interesting facts about our hashtags"
   ]
  },
  {
   "cell_type": "code",
   "execution_count": 59,
   "metadata": {},
   "outputs": [
    {
     "data": {
      "text/plain": [
       "{'num_posts': 805,\n",
       " 'num_hashtags': 5608,\n",
       " 'hashtags_per_post': 6.9664596273291925,\n",
       " 'unique_hashtags': 962}"
      ]
     },
     "execution_count": 59,
     "metadata": {},
     "output_type": "execute_result"
    }
   ],
   "source": [
    "hashtag_summary['overview']"
   ]
  },
  {
   "cell_type": "markdown",
   "metadata": {},
   "source": [
    "Counting the occurance of each hashtag in the dataset"
   ]
  },
  {
   "cell_type": "code",
   "execution_count": 60,
   "metadata": {},
   "outputs": [
    {
     "data": {
      "text/plain": [
       "[('#datascience', 808),\n",
       " ('#bigdata', 313),\n",
       " ('#machinelearning', 286),\n",
       " ('#ai', 280),\n",
       " ('#analytics', 144),\n",
       " ('#deeplearning', 124),\n",
       " ('#artificialintelligence', 104),\n",
       " ('#iot', 88),\n",
       " ('#ml', 74),\n",
       " ('#python', 60),\n",
       " ('#fintech', 55),\n",
       " ('#dataanalytics', 52),\n",
       " ('#data', 49),\n",
       " ('#technology', 45),\n",
       " ('#neuralnetworks', 44)]"
      ]
     },
     "execution_count": 60,
     "metadata": {},
     "output_type": "execute_result"
    }
   ],
   "source": [
    "hashtag_summary['top_hashtags'][0:15]"
   ]
  },
  {
   "cell_type": "code",
   "execution_count": 54,
   "metadata": {},
   "outputs": [
    {
     "data": {
      "image/png": "[encoded data removed]",
      "text/plain": [
       "<Figure size 576x864 with 1 Axes>"
      ]
     },
     "metadata": {
      "image/png": {
       "height": 698,
       "width": 576
      }
     },
     "output_type": "display_data"
    }
   ],
   "source": [
    "plt.figure(facecolor='#ebebeb', figsize=(8, 12))\n",
    "plt.barh([x[0] for x in hashtag_summary['top_hashtags'][0:15]][::-1],\n",
    "         [x[1] for x in hashtag_summary['top_hashtags'][0:15]][::-1])\n",
    "plt.title('Top Hashtags')\n",
    "plt.grid(alpha=0.3)\n",
    "plt.gca().set_frame_on(False)"
   ]
  },
  {
   "cell_type": "code",
   "execution_count": 56,
   "metadata": {},
   "outputs": [
    {
     "data": {
      "text/plain": [
       "True"
      ]
     },
     "execution_count": 56,
     "metadata": {},
     "output_type": "execute_result"
    }
   ],
   "source": [
    "sorted(hashtag_summary1) == sorted(hashtag_summary3) #check whether list contains same value or not"
   ]
  },
  {
   "cell_type": "markdown",
   "metadata": {},
   "source": [
    "# <p style=\"text-align: center;\">Conclusion<p><a id='Conclusion'></a>\n",
    "DataScience, AI, ML were the hashtags that we put in for scraping\n",
    "As we can see from the graph above AI, ML, machinelearning, bigdata were the\n",
    "[Back to top](#Introduction)"
   ]
  },
  {
   "cell_type": "markdown",
   "metadata": {},
   "source": [
    "We conclude this notebook with Metadata collection\n",
    "Click on the link below to go to our next notebook, to see how we use this metadata for data collection and how we apply various algorithms on the same.\n",
    "\n",
    "[After Metadata](After_Metadata_GIT.ipynb)"
   ]
  },
  {
   "cell_type": "markdown",
   "metadata": {},
   "source": [
    "# <p style=\"text-align: center;\">Contribution<p><a id='Contribution'></a>\n",
    "\n",
    "    \n",
    "- Code by self : 65%\n",
    "- Code from external Sources : 35%\n",
    "\n",
    "[Back to top](#Introduction)"
   ]
  },
  {
   "cell_type": "markdown",
   "metadata": {},
   "source": [
    "# <p style=\"text-align: center;\">Citations:<p><a id='Citation'></a>\n",
    "1. https://github.com/abdulfatir/twitter-sentiment-analysis/blob/master/code/preprocess.py\n",
    "2. https://stackoverflow.com/questions/8282553/removing-character-in-list-of-strings\n",
    "3. https://github.com/bear/python-twitter/blob/master/twitter/parse_tweet.py\n",
    "4. https://gist.github.com/dreikanter/2787146\n",
    "5. https://docs.python.org/3.4/howto/unicode.html\n",
    "6. https://www.kaggle.com/eliasdabbas/extract-entities-from-social-media-posts\n",
    "\n",
    "[Back to top](#Introduction)"
   ]
  },
  {
   "cell_type": "markdown",
   "metadata": {},
   "source": [
    "# <p style=\"text-align: center;\">License<p><a id='License'></a>\n",
    "Copyright (c) 2019 Rushabh Nisher, Manali Sharma\n",
    "\n",
    "Permission is hereby granted, free of charge, to any person obtaining a copy of this software and associated documentation files (the \"Software\"), to deal in the Software without restriction, including without limitation the rights to use, copy, modify, merge, publish, distribute, sublicense, and/or sell copies of the Software, and to permit persons to whom the Software is furnished to do so, subject to the following conditions:\n",
    "\n",
    "The above copyright notice and this permission notice shall be included in all copies or substantial portions of the Software.\n",
    "\n",
    "THE SOFTWARE IS PROVIDED \"AS IS\", WITHOUT WARRANTY OF ANY KIND, EXPRESS OR IMPLIED, INCLUDING BUT NOT LIMITED TO THE WARRANTIES OF MERCHANTABILITY, FITNESS FOR A PARTICULAR PURPOSE AND NONINFRINGEMENT. IN NO EVENT SHALL THE AUTHORS OR COPYRIGHT HOLDERS BE LIABLE FOR ANY CLAIM, DAMAGES OR OTHER LIABILITY, WHETHER IN AN ACTION OF CONTRACT, TORT OR OTHERWISE, ARISING FROM, OUT OF OR IN CONNECTION WITH THE SOFTWARE OR THE USE OR OTHER DEALINGS IN THE SOFTWARE.\n",
    "\n",
    "[Back to top](#Introduction)"
   ]
  }
 ],
 "metadata": {
  "kernelspec": {
   "display_name": "Python 3",
   "language": "python",
   "name": "python3"
  },
  "language_info": {
   "codemirror_mode": {
    "name": "ipython",
    "version": 3
   },
   "file_extension": ".py",
   "mimetype": "text/x-python",
   "name": "python",
   "nbconvert_exporter": "python",
   "pygments_lexer": "ipython3",
   "version": "3.6.8"
  }
 },
 "nbformat": 4,
 "nbformat_minor": 2
}
